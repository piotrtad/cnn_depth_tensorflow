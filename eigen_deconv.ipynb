{
 "cells": [
  {
   "cell_type": "code",
   "execution_count": 1,
   "metadata": {
    "collapsed": true
   },
   "outputs": [],
   "source": [
    "from __future__ import absolute_import\n",
    "from __future__ import division\n",
    "from __future__ import print_function\n",
    "\n",
    "from datetime import datetime\n",
    "import matplotlib\n",
    "%matplotlib inline\n",
    "import matplotlib.pyplot as plt\n",
    "import numpy as np\n",
    "import os\n",
    "import tensorflow as tf\n",
    "\n",
    "from dataset import DataSet\n",
    "from model_part import conv2d\n",
    "from model_part import fc"
   ]
  },
  {
   "cell_type": "code",
   "execution_count": 2,
   "metadata": {
    "collapsed": true
   },
   "outputs": [],
   "source": [
    "flags = tf.app.flags\n",
    "FLAGS = flags.FLAGS\n",
    "today = datetime.strftime(datetime.now(), '%d%m%y')\n",
    "flags.DEFINE_integer('batch_size', 8, 'Batch size')\n",
    "flags.DEFINE_string('train_file', 'train.csv', 'Train file')\n",
    "flags.DEFINE_string('gpu', '/gpu:0', 'GPU to run')\n",
    "flags.DEFINE_integer('max_steps', 10000000, 'Max steps')\n",
    "flags.DEFINE_boolean('log_device_placement', True,\n",
    "                     'Log device placement')  # stores True by default\n",
    "flags.DEFINE_string('train_dir', os.path.join(today, 'train'),\n",
    "                    'Coarse directory')\n",
    "flags.DEFINE_string('log_dir', os.path.join(today, 'logs'),\n",
    "                    'Log directory')\n",
    "flags.DEFINE_string('output_dir', os.path.join(today, 'output'),\n",
    "                    'Output prediction directory')"
   ]
  },
  {
   "cell_type": "code",
   "execution_count": 25,
   "metadata": {
    "collapsed": true
   },
   "outputs": [],
   "source": [
    "from model_part import conv2d\n",
    "from model_part import fc\n",
    "def decoder_model(inputs, reuse=False, trainable=True, debug=False):\n",
    "    # inputs.get_shape() = TensorShape([Dimension(8), Dimension(55), Dimension(74), Dimension(1)])\n",
    "    if debug: print('%s \\t\\t\\t%s' % (inputs.name, inputs.get_shape()))\n",
    "    net = conv2d('coarse1', images, [11, 11, 3, 96], [96], [1, 4, 4, 1], padding='VALID', reuse=reuse, trainable=trainable)\n",
    "    if debug: print('%s \\t\\t%s' % (net.name, net.get_shape()))\n",
    "    net = tf.nn.max_pool(net, ksize=[1, 3, 3, 1], strides=[1, 2, 2, 1], padding='VALID', name='pool1')\n",
    "    if debug: print('%s \\t\\t\\t%s' % (net.name, net.get_shape()))\n",
    "    net = conv2d('coarse2', net, [5, 5, 96, 256], [256], [1, 1, 1, 1], padding='VALID', reuse=reuse, trainable=trainable)\n",
    "    if debug: print('%s \\t\\t%s' % (net.name, net.get_shape()))\n",
    "    net = tf.nn.max_pool(net, ksize=[1, 3, 3, 1], strides=[1, 2, 2, 1], padding='SAME', name='pool1')\n",
    "    if debug: print('%s \\t\\t\\t%s' % (net.name, net.get_shape()))\n",
    "    net = conv2d('coarse3', net, [3, 3, 256, 384], [384], [1, 1, 1, 1], padding='VALID', reuse=reuse, trainable=trainable)\n",
    "    if debug: print('%s \\t\\t%s' % (net.name, net.get_shape()))\n",
    "    net = conv2d('coarse4', net, [3, 3, 384, 384], [384], [1, 1, 1, 1], padding='VALID', reuse=reuse, trainable=trainable)\n",
    "    if debug: print('%s \\t\\t%s' % (net.name, net.get_shape()))\n",
    "    net = conv2d('coarse5', net, [3, 3, 384, 256], [256], [1, 1, 1, 1], padding='VALID', reuse=reuse, trainable=trainable)\n",
    "    if debug: print('%s \\t\\t%s' % (net.name, net.get_shape()))\n",
    "    net = fc('coarse6', net, [6*10*256, 4096], [4096], reuse=reuse, trainable=trainable)\n",
    "    if debug: print('%s \\t\\t%s' % (net.name, net.get_shape()))\n",
    "    net = fc('coarse7', net, [4096, 6*10*256], [6*10*256], reuse=reuse, trainable=trainable)\n",
    "    if debug: print('%s \\t\\t%s' % (net.name, net.get_shape()))\n",
    "    net = tf.reshape(net, [-1, 6, 10, 256])\n",
    "    if debug: print('%s \\t\\t\\t%s' % (net.name, net.get_shape()))\n",
    "    net = tf.image.resize_images(net, size=[8, 12], method=tf.image.ResizeMethod.NEAREST_NEIGHBOR)\n",
    "    if debug: print('%s \\t%s' % (net.name, net.get_shape()))\n",
    "#     net = tf.pad(net, paddings=[[0,0], [1,1], [1,1], [0,0]], mode='SYMMETRIC')\n",
    "#     if debug: print('%s \\t\\t\\t%s' % (net.name, net.get_shape()))\n",
    "    net = conv2d('up1', net, [3, 3, 256, 384], [384], [1, 1, 1, 1], padding='SAME', reuse=reuse, trainable=trainable)\n",
    "    if debug: print('%s \\t\\t\\t%s' % (net.name, net.get_shape()))\n",
    "    net = tf.image.resize_images(net, size=[10, 14], method=tf.image.ResizeMethod.NEAREST_NEIGHBOR)\n",
    "    if debug: print('%s \\t%s' % (net.name, net.get_shape()))\n",
    "    net = conv2d('up2', net, [3, 3, 384, 384], [384], [1, 1, 1, 1], padding='SAME', reuse=reuse, trainable=trainable)\n",
    "    if debug: print('%s \\t\\t\\t%s' % (net.name, net.get_shape()))\n",
    "    net = tf.image.resize_images(net, size=[12, 16], method=tf.image.ResizeMethod.NEAREST_NEIGHBOR)\n",
    "    if debug: print('%s \\t%s' % (net.name, net.get_shape()))\n",
    "    net = conv2d('up3', net, [3, 3, 384, 256], [256], [1, 1, 1, 1], padding='SAME', reuse=reuse, trainable=trainable)\n",
    "    if debug: print('%s \\t\\t\\t%s' % (net.name, net.get_shape()))\n",
    "    net = tf.image.resize_images(net, size=[27, 36], method=tf.image.ResizeMethod.NEAREST_NEIGHBOR)\n",
    "    if debug: print('%s \\t%s' % (net.name, net.get_shape()))\n",
    "    net = conv2d('up4', net, [3, 3, 256, 256], [256], [1, 1, 1, 1], padding='SAME', reuse=reuse, trainable=trainable)\n",
    "    if debug: print('%s \\t\\t\\t%s' % (net.name, net.get_shape()))\n",
    "    net = tf.image.resize_images(net, size=[55, 74], method=tf.image.ResizeMethod.NEAREST_NEIGHBOR)\n",
    "    if debug: print('%s \\t%s' % (net.name, net.get_shape()))\n",
    "    net = conv2d('up5', net, [5, 5, 256, 96], [96], [1, 1, 1, 1], padding='SAME', reuse=reuse, trainable=trainable)\n",
    "    if debug: print('%s \\t\\t\\t%s' % (net.name, net.get_shape()))\n",
    "    net = tf.image.resize_images(net, size=[228, 304], method=tf.image.ResizeMethod.NEAREST_NEIGHBOR)\n",
    "    if debug: print('%s \\t%s' % (net.name, net.get_shape()))\n",
    "    net = conv2d('up6', net, [11, 11, 96, 1], [1], [1, 1, 1, 1], padding='SAME', reuse=reuse, trainable=trainable)\n",
    "    if debug: print('%s \\t\\t\\t%s' % (net.name, net.get_shape()))\n",
    "#     net = fc('up_fc1', net, [228*304, 228*304], [228*304], reuse=reuse, trainable=trainable)\n",
    "#     if debug: print('%s \\t\\t\\t%s' % (net.name, net.get_shape()))\n",
    "#     net = fc('up_fc2', net, [228*304, 228*304], [228*304], reuse=reuse, trainable=trainable)\n",
    "#     if debug: print('%s \\t\\t\\t%s' % (net.name, net.get_shape()))\n",
    "#     net = tf.reshape(net, [-1, 228, 304, 1])\n",
    "#     if debug: print('%s \\t\\t\\t%s' % (net.name, net.get_shape()))"
   ]
  },
  {
   "cell_type": "code",
   "execution_count": 26,
   "metadata": {
    "scrolled": false
   },
   "outputs": [
    {
     "name": "stdout",
     "output_type": "stream",
     "text": [
      "batch:0 \t\t\t(8, 228, 304, 3)\n",
      "coarse1/coarse1:0 \t\t(8, 55, 74, 96)\n",
      "pool1:0 \t\t\t(8, 27, 36, 96)\n",
      "coarse2/coarse2:0 \t\t(8, 23, 32, 256)\n",
      "pool1_1:0 \t\t\t(8, 12, 16, 256)\n",
      "coarse3/coarse3:0 \t\t(8, 10, 14, 384)\n",
      "coarse4/coarse4:0 \t\t(8, 8, 12, 384)\n",
      "coarse5/coarse5:0 \t\t(8, 6, 10, 256)\n",
      "coarse6/coarse6:0 \t\t(8, 4096)\n",
      "coarse7/coarse7:0 \t\t(8, 15360)\n",
      "Reshape:0 \t\t\t(8, 6, 10, 256)\n",
      "ResizeNearestNeighbor:0 \t(8, 8, 12, 256)\n",
      "up1/up1:0 \t\t\t(8, 8, 12, 384)\n",
      "ResizeNearestNeighbor_1:0 \t(8, 10, 14, 384)\n",
      "up2/up2:0 \t\t\t(8, 10, 14, 384)\n",
      "ResizeNearestNeighbor_2:0 \t(8, 12, 16, 384)\n",
      "up3/up3:0 \t\t\t(8, 12, 16, 256)\n",
      "ResizeNearestNeighbor_3:0 \t(8, 27, 36, 256)\n",
      "up4/up4:0 \t\t\t(8, 27, 36, 256)\n",
      "ResizeNearestNeighbor_4:0 \t(8, 55, 74, 256)\n",
      "up5/up5:0 \t\t\t(8, 55, 74, 96)\n",
      "ResizeNearestNeighbor_5:0 \t(8, 228, 304, 96)\n",
      "up6/up6:0 \t\t\t(8, 228, 304, 1)\n"
     ]
    }
   ],
   "source": [
    "with tf.Graph().as_default():\n",
    "    global_step = tf.Variable(0, trainable=False)\n",
    "    dataset = DataSet(FLAGS.batch_size)\n",
    "    images, depths, invalid_depths = dataset.csv_inputs(FLAGS.train_file, target_size=[228, 304])\n",
    "    keep_conv = tf.placeholder(tf.float32)\n",
    "    keep_hidden = tf.placeholder(tf.float32)\n",
    "    encoder_model = decoder_model(images, keep_conv, trainable=False, debug=True)"
   ]
  },
  {
   "cell_type": "code",
   "execution_count": null,
   "metadata": {
    "collapsed": true
   },
   "outputs": [],
   "source": []
  },
  {
   "cell_type": "code",
   "execution_count": null,
   "metadata": {
    "collapsed": true
   },
   "outputs": [],
   "source": []
  }
 ],
 "metadata": {
  "kernelspec": {
   "display_name": "Python 2",
   "language": "python",
   "name": "python2"
  },
  "language_info": {
   "codemirror_mode": {
    "name": "ipython",
    "version": 2
   },
   "file_extension": ".py",
   "mimetype": "text/x-python",
   "name": "python",
   "nbconvert_exporter": "python",
   "pygments_lexer": "ipython2",
   "version": "2.7.13"
  }
 },
 "nbformat": 4,
 "nbformat_minor": 2
}
