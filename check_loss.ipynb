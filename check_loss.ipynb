{
 "cells": [
  {
   "cell_type": "code",
   "execution_count": 1,
   "metadata": {
    "collapsed": true
   },
   "outputs": [],
   "source": [
    "# tensorflow\n",
    "import tensorflow as tf\n",
    "import math\n",
    "from model_part import conv2d\n",
    "from model_part import fc\n",
    "import numpy as np"
   ]
  },
  {
   "cell_type": "code",
   "execution_count": null,
   "metadata": {},
   "outputs": [],
   "source": [
    "# Illustration\n",
    "y = tf.placeholder(tf.float32)\n",
    "x = tf.placeholder(tf.float32)\n",
    "m = tf.constant(100.0)\n",
    "c = tf.constant(10.0)\n",
    "\n",
    "y_ = tf.multiply(m, x) + c;\n",
    "l = tf.losses.mean_squared_error(labels=y, predictions=y_)\n",
    "\n",
    "var_grad = tf.gradients(l, [y_, x])\n",
    "\n",
    "sess = tf.Session()\n",
    "l_val, var_grad_val = sess.run([l, var_grad], feed_dict={x: 1.0, y: 108})\n",
    "\n",
    "print(l_val, var_grad_val)"
   ]
  },
  {
   "cell_type": "code",
   "execution_count": null,
   "metadata": {
    "collapsed": true
   },
   "outputs": [],
   "source": [
    "def loss(x, c):\n",
    "    \"\"\"Eigen loss.\"\"\"\n",
    "    x_flat = tf.reshape(x, [-1, 55*74])\n",
    "    c_flat = tf.reshape(c, [-1, 55*74])\n",
    "\n",
    "    valid_x = tf.multiply(x_flat, tf.sign(x_flat))\n",
    "    \n",
    "    d = tf.subtract(tf.log(valid_x), tf.log(c_flat))\n",
    "    square_d = tf.square(d)\n",
    "    sum_square_d = tf.reduce_sum(square_d, 1)\n",
    "    sum_d = tf.reduce_sum(d, 1)\n",
    "    square_sum_d = tf.square(sum_d)\n",
    "    return (sum_square_d / (55.0*74.0)) - (0.5 * square_sum_d / math.pow(55*74, 2))"
   ]
  },
  {
   "cell_type": "code",
   "execution_count": 2,
   "metadata": {
    "collapsed": true
   },
   "outputs": [],
   "source": [
    "def loss(x, c):\n",
    "    \"\"\"Eigen loss (without log).\"\"\"\n",
    "    x_flat = tf.reshape(x, [-1, 55*74])\n",
    "    c_flat = tf.reshape(c, [-1, 55*74])\n",
    "\n",
    "    valid_x = tf.multiply(x_flat, tf.sign(x_flat))\n",
    "    \n",
    "    d = tf.subtract(valid_x, c_flat)\n",
    "    square_d = tf.square(d)\n",
    "    sum_square_d = tf.reduce_sum(square_d, 1)\n",
    "    sum_d = tf.reduce_sum(d, 1)\n",
    "    square_sum_d = tf.square(sum_d)\n",
    "    return (sum_square_d / (55.0*74.0)) - (0.5 * square_sum_d / math.pow(55*74, 2))"
   ]
  },
  {
   "cell_type": "code",
   "execution_count": 3,
   "metadata": {
    "collapsed": true
   },
   "outputs": [],
   "source": [
    "import scipy.io\n",
    "mat = scipy.io.loadmat('/home/rayner/refinenet/main/exp.mat')"
   ]
  },
  {
   "cell_type": "code",
   "execution_count": null,
   "metadata": {},
   "outputs": [],
   "source": [
    "mat['depths'].shape"
   ]
  },
  {
   "cell_type": "code",
   "execution_count": 4,
   "metadata": {
    "collapsed": true
   },
   "outputs": [],
   "source": [
    "l = loss(x=mat['logits'], c=mat['depths'])"
   ]
  },
  {
   "cell_type": "code",
   "execution_count": null,
   "metadata": {
    "collapsed": true
   },
   "outputs": [],
   "source": [
    "l = huber_loss(labels=mat['depths'], predictions=mat['logits'])"
   ]
  },
  {
   "cell_type": "code",
   "execution_count": 5,
   "metadata": {},
   "outputs": [
    {
     "data": {
      "text/plain": [
       "array([ 0.16250489])"
      ]
     },
     "execution_count": 5,
     "metadata": {},
     "output_type": "execute_result"
    }
   ],
   "source": [
    "sess = tf.Session()\n",
    "sess.run(l)"
   ]
  },
  {
   "cell_type": "code",
   "execution_count": 6,
   "metadata": {
    "collapsed": true,
    "scrolled": true
   },
   "outputs": [],
   "source": [
    "x = tf.placeholder(tf.float32)\n",
    "c = tf.placeholder(tf.float32)\n",
    "\n",
    "l = loss(x, c)\n",
    "\n",
    "var_grad = tf.gradients(l, [x])\n",
    "\n",
    "# You can then use this symbolic gradient to compute the numerical gradient for some particular data:\n",
    "sess = tf.Session()\n",
    "var_grad_val = sess.run(var_grad, feed_dict={x: mat['logits'], \n",
    "                                             c: mat['depths']\n",
    "                                            })"
   ]
  },
  {
   "cell_type": "code",
   "execution_count": 7,
   "metadata": {},
   "outputs": [
    {
     "data": {
      "text/plain": [
       "(55, 74)"
      ]
     },
     "execution_count": 7,
     "metadata": {},
     "output_type": "execute_result"
    }
   ],
   "source": [
    "var_grad_val[0].shape"
   ]
  },
  {
   "cell_type": "code",
   "execution_count": 8,
   "metadata": {
    "collapsed": true
   },
   "outputs": [],
   "source": [
    "import scipy.io\n",
    "grads = scipy.io.loadmat('/home/rayner/refinenet/main/grads.mat')"
   ]
  },
  {
   "cell_type": "code",
   "execution_count": 9,
   "metadata": {},
   "outputs": [
    {
     "data": {
      "text/plain": [
       "(55, 74)"
      ]
     },
     "execution_count": 9,
     "metadata": {},
     "output_type": "execute_result"
    }
   ],
   "source": [
    "grad = grads['grads']\n",
    "grad.shape"
   ]
  },
  {
   "cell_type": "code",
   "execution_count": 17,
   "metadata": {},
   "outputs": [
    {
     "ename": "AssertionError",
     "evalue": "\nArrays are not almost equal to 7 decimals\n\n(mismatch 100.0%)\n x: array([[ -2.3884532e-05,  -1.5770796e-04,  -1.5274121e-04, ...,\n         -3.6878635e-04,   1.8065063e-04,   1.0281313e-04],\n       [ -2.6669881e-04,  -2.0883813e-04,   2.5438531e-04, ...,...\n y: array([[ -2.3429635e-05,  -1.5726950e-04,  -1.5230215e-04, ...,\n         -3.6837382e-04,   1.8113066e-04,   1.0328357e-04],\n       [ -2.6627374e-04,  -2.0840595e-04,   2.5487438e-04, ...,...",
     "output_type": "error",
     "traceback": [
      "\u001b[0;31m---------------------------------------------------------------------------\u001b[0m",
      "\u001b[0;31mAssertionError\u001b[0m                            Traceback (most recent call last)",
      "\u001b[0;32m<ipython-input-17-796a83c0316a>\u001b[0m in \u001b[0;36m<module>\u001b[0;34m()\u001b[0m\n\u001b[0;32m----> 1\u001b[0;31m \u001b[0mnp\u001b[0m\u001b[0;34m.\u001b[0m\u001b[0mtesting\u001b[0m\u001b[0;34m.\u001b[0m\u001b[0massert_array_almost_equal\u001b[0m\u001b[0;34m(\u001b[0m\u001b[0mgrad\u001b[0m\u001b[0;34m,\u001b[0m \u001b[0mvar_grad_val\u001b[0m\u001b[0;34m[\u001b[0m\u001b[0;36m0\u001b[0m\u001b[0;34m]\u001b[0m\u001b[0;34m,\u001b[0m\u001b[0mdecimal\u001b[0m\u001b[0;34m=\u001b[0m\u001b[0;36m7\u001b[0m\u001b[0;34m)\u001b[0m\u001b[0;34m\u001b[0m\u001b[0m\n\u001b[0m",
      "\u001b[0;32m/home/rayner/miniconda2/envs/tf-1.2/lib/python2.7/site-packages/numpy/testing/utils.pyc\u001b[0m in \u001b[0;36massert_array_almost_equal\u001b[0;34m(x, y, decimal, err_msg, verbose)\u001b[0m\n\u001b[1;32m    960\u001b[0m     assert_array_compare(compare, x, y, err_msg=err_msg, verbose=verbose,\n\u001b[1;32m    961\u001b[0m              \u001b[0mheader\u001b[0m\u001b[0;34m=\u001b[0m\u001b[0;34m(\u001b[0m\u001b[0;34m'Arrays are not almost equal to %d decimals'\u001b[0m \u001b[0;34m%\u001b[0m \u001b[0mdecimal\u001b[0m\u001b[0;34m)\u001b[0m\u001b[0;34m,\u001b[0m\u001b[0;34m\u001b[0m\u001b[0m\n\u001b[0;32m--> 962\u001b[0;31m              precision=decimal)\n\u001b[0m\u001b[1;32m    963\u001b[0m \u001b[0;34m\u001b[0m\u001b[0m\n\u001b[1;32m    964\u001b[0m \u001b[0;34m\u001b[0m\u001b[0m\n",
      "\u001b[0;32m/home/rayner/miniconda2/envs/tf-1.2/lib/python2.7/site-packages/numpy/testing/utils.pyc\u001b[0m in \u001b[0;36massert_array_compare\u001b[0;34m(comparison, x, y, err_msg, verbose, header, precision, equal_nan, equal_inf)\u001b[0m\n\u001b[1;32m    776\u001b[0m                                 names=('x', 'y'), precision=precision)\n\u001b[1;32m    777\u001b[0m             \u001b[0;32mif\u001b[0m \u001b[0;32mnot\u001b[0m \u001b[0mcond\u001b[0m\u001b[0;34m:\u001b[0m\u001b[0;34m\u001b[0m\u001b[0m\n\u001b[0;32m--> 778\u001b[0;31m                 \u001b[0;32mraise\u001b[0m \u001b[0mAssertionError\u001b[0m\u001b[0;34m(\u001b[0m\u001b[0mmsg\u001b[0m\u001b[0;34m)\u001b[0m\u001b[0;34m\u001b[0m\u001b[0m\n\u001b[0m\u001b[1;32m    779\u001b[0m     \u001b[0;32mexcept\u001b[0m \u001b[0mValueError\u001b[0m\u001b[0;34m:\u001b[0m\u001b[0;34m\u001b[0m\u001b[0m\n\u001b[1;32m    780\u001b[0m         \u001b[0;32mimport\u001b[0m \u001b[0mtraceback\u001b[0m\u001b[0;34m\u001b[0m\u001b[0m\n",
      "\u001b[0;31mAssertionError\u001b[0m: \nArrays are not almost equal to 7 decimals\n\n(mismatch 100.0%)\n x: array([[ -2.3884532e-05,  -1.5770796e-04,  -1.5274121e-04, ...,\n         -3.6878635e-04,   1.8065063e-04,   1.0281313e-04],\n       [ -2.6669881e-04,  -2.0883813e-04,   2.5438531e-04, ...,...\n y: array([[ -2.3429635e-05,  -1.5726950e-04,  -1.5230215e-04, ...,\n         -3.6837382e-04,   1.8113066e-04,   1.0328357e-04],\n       [ -2.6627374e-04,  -2.0840595e-04,   2.5487438e-04, ...,..."
     ]
    }
   ],
   "source": [
    "np.testing.assert_array_almost_equal(grad, var_grad_val[0],decimal=7)"
   ]
  },
  {
   "cell_type": "code",
   "execution_count": 11,
   "metadata": {},
   "outputs": [
    {
     "data": {
      "text/plain": [
       "array([[False, False, False, ..., False, False, False],\n",
       "       [False, False, False, ..., False, False, False],\n",
       "       [False, False, False, ..., False, False, False],\n",
       "       ..., \n",
       "       [False, False, False, ..., False, False, False],\n",
       "       [False, False, False, ..., False, False, False],\n",
       "       [False, False, False, ..., False, False, False]], dtype=bool)"
      ]
     },
     "execution_count": 11,
     "metadata": {},
     "output_type": "execute_result"
    }
   ],
   "source": [
    "np.isclose(grad, var_grad_val[0])"
   ]
  },
  {
   "cell_type": "code",
   "execution_count": 14,
   "metadata": {},
   "outputs": [
    {
     "data": {
      "text/plain": [
       "-9.1554004204750727e-07"
      ]
     },
     "execution_count": 14,
     "metadata": {},
     "output_type": "execute_result"
    }
   ],
   "source": [
    "np.mean(grad)"
   ]
  },
  {
   "cell_type": "code",
   "execution_count": 15,
   "metadata": {},
   "outputs": [
    {
     "data": {
      "text/plain": [
       "-4.5782355e-07"
      ]
     },
     "execution_count": 15,
     "metadata": {},
     "output_type": "execute_result"
    }
   ],
   "source": [
    "np.mean(var_grad_val[0])"
   ]
  },
  {
   "cell_type": "code",
   "execution_count": 16,
   "metadata": {},
   "outputs": [
    {
     "data": {
      "text/plain": [
       "4.5771700533042293e-07"
      ]
     },
     "execution_count": 16,
     "metadata": {},
     "output_type": "execute_result"
    }
   ],
   "source": [
    "np.mean(np.abs(grad - var_grad_val[0]))"
   ]
  },
  {
   "cell_type": "code",
   "execution_count": 18,
   "metadata": {},
   "outputs": [
    {
     "data": {
      "text/plain": [
       "array([[ -2.38845316e-05,  -1.57707960e-04,  -1.52741206e-04, ...,\n",
       "         -3.68786351e-04,   1.80650633e-04,   1.02813127e-04],\n",
       "       [ -2.66698814e-04,  -2.08838134e-04,   2.54385314e-04, ...,\n",
       "         -3.97353422e-04,   1.53746063e-04,   9.56172057e-05],\n",
       "       [  2.97773395e-04,   1.57191410e-04,   6.35796302e-05, ...,\n",
       "         -2.08946198e-06,  -2.54436364e-04,  -2.78406235e-04],\n",
       "       ..., \n",
       "       [ -1.16114679e-04,  -9.26718022e-05,  -8.90399944e-05, ...,\n",
       "         -3.24425390e-04,  -1.49454568e-04,  -2.69983623e-04],\n",
       "       [ -1.25404172e-04,   9.28001902e-06,   1.25572812e-04, ...,\n",
       "          5.24782404e-05,  -9.13597846e-05,  -3.62109184e-04],\n",
       "       [  1.67997931e-04,   1.20739984e-04,  -2.47874967e-04, ...,\n",
       "          2.63940821e-04,   8.73085941e-05,  -3.05469788e-05]])"
      ]
     },
     "execution_count": 18,
     "metadata": {},
     "output_type": "execute_result"
    }
   ],
   "source": [
    "grad"
   ]
  },
  {
   "cell_type": "code",
   "execution_count": 19,
   "metadata": {},
   "outputs": [
    {
     "data": {
      "text/plain": [
       "array([[ -2.34296349e-05,  -1.57269504e-04,  -1.52302149e-04, ...,\n",
       "         -3.68373818e-04,   1.81130657e-04,   1.03283572e-04],\n",
       "       [ -2.66273739e-04,  -2.08405952e-04,   2.54874380e-04, ...,\n",
       "         -3.96944437e-04,   1.54222784e-04,   9.60867837e-05],\n",
       "       [  2.98267812e-04,   1.57668546e-04,   6.40452708e-05, ...,\n",
       "         -1.63189486e-06,  -2.54009792e-04,  -2.77982617e-04],\n",
       "       ..., \n",
       "       [ -1.15671115e-04,  -9.22253748e-05,  -8.85931076e-05, ...,\n",
       "         -3.24007415e-04,  -1.49015104e-04,  -2.69558979e-04],\n",
       "       [ -1.24961749e-04,   9.73898659e-06,   1.26046070e-04, ...,\n",
       "          5.29425124e-05,  -9.09131923e-05,  -3.61695827e-04],\n",
       "       [  1.68476399e-04,   1.21212644e-04,  -2.47447577e-04, ...,\n",
       "          2.64431059e-04,   8.77771599e-05,  -3.00929078e-05]], dtype=float32)"
      ]
     },
     "execution_count": 19,
     "metadata": {},
     "output_type": "execute_result"
    }
   ],
   "source": [
    "var_grad_val[0]"
   ]
  },
  {
   "cell_type": "code",
   "execution_count": null,
   "metadata": {
    "collapsed": true
   },
   "outputs": [],
   "source": []
  }
 ],
 "metadata": {
  "kernelspec": {
   "display_name": "Python 2",
   "language": "python",
   "name": "python2"
  },
  "language_info": {
   "codemirror_mode": {
    "name": "ipython",
    "version": 2
   },
   "file_extension": ".py",
   "mimetype": "text/x-python",
   "name": "python",
   "nbconvert_exporter": "python",
   "pygments_lexer": "ipython2",
   "version": "2.7.13"
  }
 },
 "nbformat": 4,
 "nbformat_minor": 2
}
