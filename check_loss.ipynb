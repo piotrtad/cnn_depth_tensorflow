{
 "cells": [
  {
   "cell_type": "code",
   "execution_count": 15,
   "metadata": {
    "collapsed": true
   },
   "outputs": [],
   "source": [
    "# tensorflow\n",
    "import tensorflow as tf\n",
    "import math\n",
    "from model_part import conv2d\n",
    "from model_part import fc"
   ]
  },
  {
   "cell_type": "code",
   "execution_count": 25,
   "metadata": {
    "collapsed": true
   },
   "outputs": [],
   "source": [
    "def loss(logits, depths, invalid_depths):\n",
    "    logits_flat = tf.reshape(logits, [-1, 55*74])\n",
    "    depths_flat = tf.reshape(depths, [-1, 55*74])\n",
    "    invalid_depths_flat = tf.reshape(invalid_depths, [-1, 55*74])\n",
    "\n",
    "    predict = tf.multiply(logits_flat, invalid_depths_flat)\n",
    "    target = tf.multiply(depths_flat, invalid_depths_flat)\n",
    "    d = tf.subtract(predict, target)\n",
    "    square_d = tf.square(d)\n",
    "    sum_square_d = tf.reduce_sum(square_d, 1)\n",
    "    sum_d = tf.reduce_sum(d, 1)\n",
    "    sqare_sum_d = tf.square(sum_d)\n",
    "    return tf.reduce_mean(sum_square_d / 55.0*74.0 - 0.5*sqare_sum_d / math.pow(55*74, 2))\n",
    "#     tf.add_to_collection('losses', cost)\n",
    "#     return tf.add_n(tf.get_collection('losses'), name='total_loss')"
   ]
  },
  {
   "cell_type": "code",
   "execution_count": 22,
   "metadata": {},
   "outputs": [],
   "source": [
    "import scipy.io\n",
    "mat = scipy.io.loadmat('example.mat')"
   ]
  },
  {
   "cell_type": "code",
   "execution_count": 24,
   "metadata": {},
   "outputs": [
    {
     "data": {
      "text/plain": [
       "(100, 55, 74)"
      ]
     },
     "execution_count": 24,
     "metadata": {},
     "output_type": "execute_result"
    }
   ],
   "source": [
    "mat['depths'].shape"
   ]
  },
  {
   "cell_type": "code",
   "execution_count": 27,
   "metadata": {},
   "outputs": [],
   "source": [
    "l = loss(depths=mat['depths'], logits=mat['logits'], invalid_depths=tf.sign(mat['depths']))"
   ]
  },
  {
   "cell_type": "code",
   "execution_count": 28,
   "metadata": {},
   "outputs": [
    {
     "data": {
      "text/plain": [
       "10982.23342764498"
      ]
     },
     "execution_count": 28,
     "metadata": {},
     "output_type": "execute_result"
    }
   ],
   "source": [
    "sess = tf.Session()\n",
    "sess.run(l)"
   ]
  },
  {
   "cell_type": "code",
   "execution_count": null,
   "metadata": {
    "collapsed": true
   },
   "outputs": [],
   "source": []
  }
 ],
 "metadata": {
  "kernelspec": {
   "display_name": "Python 2",
   "language": "python",
   "name": "python2"
  },
  "language_info": {
   "codemirror_mode": {
    "name": "ipython",
    "version": 2
   },
   "file_extension": ".py",
   "mimetype": "text/x-python",
   "name": "python",
   "nbconvert_exporter": "python",
   "pygments_lexer": "ipython2",
   "version": "2.7.13"
  }
 },
 "nbformat": 4,
 "nbformat_minor": 2
}
