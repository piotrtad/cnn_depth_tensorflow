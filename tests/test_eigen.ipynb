{
 "cells": [
  {
   "cell_type": "code",
   "execution_count": 1,
   "metadata": {
    "collapsed": true
   },
   "outputs": [],
   "source": [
    "from __future__ import absolute_import\n",
    "from __future__ import division\n",
    "from __future__ import print_function\n",
    "\n",
    "from datetime import datetime\n",
    "import matplotlib\n",
    "%matplotlib inline\n",
    "import matplotlib.pyplot as plt\n",
    "import numpy as np\n",
    "import os\n",
    "import tensorflow as tf\n",
    "\n",
    "from dataset import DataSet\n",
    "import decoder_model"
   ]
  },
  {
   "cell_type": "code",
   "execution_count": 2,
   "metadata": {
    "collapsed": true
   },
   "outputs": [],
   "source": [
    "today = datetime.strftime(datetime.now(), '%d%m%y')\n",
    "flags = tf.app.flags\n",
    "FLAGS = flags.FLAGS\n",
    "flags.DEFINE_string('checkpoint',\n",
    "                    '/home/rayner/tensorflow/models/inception/cnn_depth_tensorflow/300617/train',\n",
    "                    'coarse model checkpoint')\n",
    "flags.DEFINE_integer('batch_size', 654, 'Batch size')\n",
    "flags.DEFINE_string('train_file', 'train.csv', 'Train file')\n",
    "flags.DEFINE_string('test_file', 'test.csv', 'Test file')"
   ]
  },
  {
   "cell_type": "code",
   "execution_count": 3,
   "metadata": {},
   "outputs": [
    {
     "name": "stdout",
     "output_type": "stream",
     "text": [
      "parameter: coarse1/weights:0\n",
      "parameter: coarse1/biases:0\n",
      "parameter: coarse2/weights:0\n",
      "parameter: coarse2/biases:0\n",
      "parameter: coarse3/weights:0\n",
      "parameter: coarse3/biases:0\n",
      "parameter: coarse4/weights:0\n",
      "parameter: coarse4/biases:0\n",
      "parameter: coarse5/weights:0\n",
      "parameter: coarse5/biases:0\n",
      "parameter: coarse6/weights:0\n",
      "parameter: coarse6/biases:0\n",
      "parameter: coarse7/weights:0\n",
      "parameter: coarse7/biases:0\n",
      "parameter: up1/weights:0\n",
      "parameter: up1/biases:0\n",
      "parameter: up2/weights:0\n",
      "parameter: up2/biases:0\n",
      "parameter: up3/weights:0\n",
      "parameter: up3/biases:0\n",
      "parameter: up4/weights:0\n",
      "parameter: up4/biases:0\n",
      "parameter: up5/weights:0\n",
      "parameter: up5/biases:0\n",
      "parameter: up6/weights:0\n",
      "parameter: up6/biases:0\n",
      "Loading pretrained model...\n",
      "Pretrained model restored.\n"
     ]
    },
    {
     "ename": "ResourceExhaustedError",
     "evalue": "OOM when allocating tensor with shape[654,55,74,256]\n\t [[Node: ResizeNearestNeighbor_4 = ResizeNearestNeighbor[T=DT_FLOAT, align_corners=false, _device=\"/job:localhost/replica:0/task:0/gpu:0\"](up4/up4, size_6)]]\n\nCaused by op u'ResizeNearestNeighbor_4', defined at:\n  File \"/home/rayner/miniconda2/envs/tf/lib/python2.7/runpy.py\", line 174, in _run_module_as_main\n    \"__main__\", fname, loader, pkg_name)\n  File \"/home/rayner/miniconda2/envs/tf/lib/python2.7/runpy.py\", line 72, in _run_code\n    exec code in run_globals\n  File \"/home/rayner/miniconda2/envs/tf/lib/python2.7/site-packages/ipykernel_launcher.py\", line 16, in <module>\n    app.launch_new_instance()\n  File \"/home/rayner/miniconda2/envs/tf/lib/python2.7/site-packages/traitlets/config/application.py\", line 658, in launch_instance\n    app.start()\n  File \"/home/rayner/miniconda2/envs/tf/lib/python2.7/site-packages/ipykernel/kernelapp.py\", line 477, in start\n    ioloop.IOLoop.instance().start()\n  File \"/home/rayner/miniconda2/envs/tf/lib/python2.7/site-packages/zmq/eventloop/ioloop.py\", line 177, in start\n    super(ZMQIOLoop, self).start()\n  File \"/home/rayner/miniconda2/envs/tf/lib/python2.7/site-packages/tornado/ioloop.py\", line 888, in start\n    handler_func(fd_obj, events)\n  File \"/home/rayner/miniconda2/envs/tf/lib/python2.7/site-packages/tornado/stack_context.py\", line 277, in null_wrapper\n    return fn(*args, **kwargs)\n  File \"/home/rayner/miniconda2/envs/tf/lib/python2.7/site-packages/zmq/eventloop/zmqstream.py\", line 440, in _handle_events\n    self._handle_recv()\n  File \"/home/rayner/miniconda2/envs/tf/lib/python2.7/site-packages/zmq/eventloop/zmqstream.py\", line 472, in _handle_recv\n    self._run_callback(callback, msg)\n  File \"/home/rayner/miniconda2/envs/tf/lib/python2.7/site-packages/zmq/eventloop/zmqstream.py\", line 414, in _run_callback\n    callback(*args, **kwargs)\n  File \"/home/rayner/miniconda2/envs/tf/lib/python2.7/site-packages/tornado/stack_context.py\", line 277, in null_wrapper\n    return fn(*args, **kwargs)\n  File \"/home/rayner/miniconda2/envs/tf/lib/python2.7/site-packages/ipykernel/kernelbase.py\", line 283, in dispatcher\n    return self.dispatch_shell(stream, msg)\n  File \"/home/rayner/miniconda2/envs/tf/lib/python2.7/site-packages/ipykernel/kernelbase.py\", line 235, in dispatch_shell\n    handler(stream, idents, msg)\n  File \"/home/rayner/miniconda2/envs/tf/lib/python2.7/site-packages/ipykernel/kernelbase.py\", line 399, in execute_request\n    user_expressions, allow_stdin)\n  File \"/home/rayner/miniconda2/envs/tf/lib/python2.7/site-packages/ipykernel/ipkernel.py\", line 196, in do_execute\n    res = shell.run_cell(code, store_history=store_history, silent=silent)\n  File \"/home/rayner/miniconda2/envs/tf/lib/python2.7/site-packages/ipykernel/zmqshell.py\", line 533, in run_cell\n    return super(ZMQInteractiveShell, self).run_cell(*args, **kwargs)\n  File \"/home/rayner/miniconda2/envs/tf/lib/python2.7/site-packages/IPython/core/interactiveshell.py\", line 2717, in run_cell\n    interactivity=interactivity, compiler=compiler, result=result)\n  File \"/home/rayner/miniconda2/envs/tf/lib/python2.7/site-packages/IPython/core/interactiveshell.py\", line 2821, in run_ast_nodes\n    if self.run_code(code, result):\n  File \"/home/rayner/miniconda2/envs/tf/lib/python2.7/site-packages/IPython/core/interactiveshell.py\", line 2881, in run_code\n    exec(code_obj, self.user_global_ns, self.user_ns)\n  File \"<ipython-input-3-f6824446eff2>\", line 8, in <module>\n    logits = decoder_model.model(images, keep_conv, keep_hidden)\n  File \"decoder_model.py\", line 51, in model\n    net = tf.image.resize_images(net, size=[55, 74], method=tf.image.ResizeMethod.NEAREST_NEIGHBOR)\n  File \"/home/rayner/miniconda2/envs/tf/lib/python2.7/site-packages/tensorflow/python/ops/image_ops_impl.py\", line 681, in resize_images\n    align_corners=align_corners)\n  File \"/home/rayner/miniconda2/envs/tf/lib/python2.7/site-packages/tensorflow/python/ops/gen_image_ops.py\", line 852, in resize_nearest_neighbor\n    name=name)\n  File \"/home/rayner/miniconda2/envs/tf/lib/python2.7/site-packages/tensorflow/python/framework/op_def_library.py\", line 763, in apply_op\n    op_def=op_def)\n  File \"/home/rayner/miniconda2/envs/tf/lib/python2.7/site-packages/tensorflow/python/framework/ops.py\", line 2327, in create_op\n    original_op=self._default_original_op, op_def=op_def)\n  File \"/home/rayner/miniconda2/envs/tf/lib/python2.7/site-packages/tensorflow/python/framework/ops.py\", line 1226, in __init__\n    self._traceback = _extract_stack()\n\nResourceExhaustedError (see above for traceback): OOM when allocating tensor with shape[654,55,74,256]\n\t [[Node: ResizeNearestNeighbor_4 = ResizeNearestNeighbor[T=DT_FLOAT, align_corners=false, _device=\"/job:localhost/replica:0/task:0/gpu:0\"](up4/up4, size_6)]]\n",
     "output_type": "error",
     "traceback": [
      "\u001b[0;31m---------------------------------------------------------------------------\u001b[0m",
      "\u001b[0;31mResourceExhaustedError\u001b[0m                    Traceback (most recent call last)",
      "\u001b[0;32m<ipython-input-3-f6824446eff2>\u001b[0m in \u001b[0;36m<module>\u001b[0;34m()\u001b[0m\n\u001b[1;32m     46\u001b[0m     loss_value, logits_val, images_val = sess.run(\n\u001b[1;32m     47\u001b[0m             \u001b[0;34m[\u001b[0m\u001b[0mloss\u001b[0m\u001b[0;34m,\u001b[0m \u001b[0mlogits\u001b[0m\u001b[0;34m,\u001b[0m \u001b[0mimages\u001b[0m\u001b[0;34m]\u001b[0m\u001b[0;34m,\u001b[0m\u001b[0;34m\u001b[0m\u001b[0m\n\u001b[0;32m---> 48\u001b[0;31m             feed_dict={keep_conv: 0.8, keep_hidden: 0.5})\n\u001b[0m\u001b[1;32m     49\u001b[0m     \u001b[0;32mprint\u001b[0m\u001b[0;34m(\u001b[0m\u001b[0;34m\"test loss %f\"\u001b[0m \u001b[0;34m%\u001b[0m \u001b[0;34m(\u001b[0m\u001b[0mloss_value\u001b[0m\u001b[0;34m)\u001b[0m\u001b[0;34m)\u001b[0m\u001b[0;34m\u001b[0m\u001b[0m\n\u001b[1;32m     50\u001b[0m \u001b[0;34m\u001b[0m\u001b[0m\n",
      "\u001b[0;32m/home/rayner/miniconda2/envs/tf/lib/python2.7/site-packages/tensorflow/python/client/session.pyc\u001b[0m in \u001b[0;36mrun\u001b[0;34m(self, fetches, feed_dict, options, run_metadata)\u001b[0m\n\u001b[1;32m    765\u001b[0m     \u001b[0;32mtry\u001b[0m\u001b[0;34m:\u001b[0m\u001b[0;34m\u001b[0m\u001b[0m\n\u001b[1;32m    766\u001b[0m       result = self._run(None, fetches, feed_dict, options_ptr,\n\u001b[0;32m--> 767\u001b[0;31m                          run_metadata_ptr)\n\u001b[0m\u001b[1;32m    768\u001b[0m       \u001b[0;32mif\u001b[0m \u001b[0mrun_metadata\u001b[0m\u001b[0;34m:\u001b[0m\u001b[0;34m\u001b[0m\u001b[0m\n\u001b[1;32m    769\u001b[0m         \u001b[0mproto_data\u001b[0m \u001b[0;34m=\u001b[0m \u001b[0mtf_session\u001b[0m\u001b[0;34m.\u001b[0m\u001b[0mTF_GetBuffer\u001b[0m\u001b[0;34m(\u001b[0m\u001b[0mrun_metadata_ptr\u001b[0m\u001b[0;34m)\u001b[0m\u001b[0;34m\u001b[0m\u001b[0m\n",
      "\u001b[0;32m/home/rayner/miniconda2/envs/tf/lib/python2.7/site-packages/tensorflow/python/client/session.pyc\u001b[0m in \u001b[0;36m_run\u001b[0;34m(self, handle, fetches, feed_dict, options, run_metadata)\u001b[0m\n\u001b[1;32m    963\u001b[0m     \u001b[0;32mif\u001b[0m \u001b[0mfinal_fetches\u001b[0m \u001b[0;32mor\u001b[0m \u001b[0mfinal_targets\u001b[0m\u001b[0;34m:\u001b[0m\u001b[0;34m\u001b[0m\u001b[0m\n\u001b[1;32m    964\u001b[0m       results = self._do_run(handle, final_targets, final_fetches,\n\u001b[0;32m--> 965\u001b[0;31m                              feed_dict_string, options, run_metadata)\n\u001b[0m\u001b[1;32m    966\u001b[0m     \u001b[0;32melse\u001b[0m\u001b[0;34m:\u001b[0m\u001b[0;34m\u001b[0m\u001b[0m\n\u001b[1;32m    967\u001b[0m       \u001b[0mresults\u001b[0m \u001b[0;34m=\u001b[0m \u001b[0;34m[\u001b[0m\u001b[0;34m]\u001b[0m\u001b[0;34m\u001b[0m\u001b[0m\n",
      "\u001b[0;32m/home/rayner/miniconda2/envs/tf/lib/python2.7/site-packages/tensorflow/python/client/session.pyc\u001b[0m in \u001b[0;36m_do_run\u001b[0;34m(self, handle, target_list, fetch_list, feed_dict, options, run_metadata)\u001b[0m\n\u001b[1;32m   1013\u001b[0m     \u001b[0;32mif\u001b[0m \u001b[0mhandle\u001b[0m \u001b[0;32mis\u001b[0m \u001b[0mNone\u001b[0m\u001b[0;34m:\u001b[0m\u001b[0;34m\u001b[0m\u001b[0m\n\u001b[1;32m   1014\u001b[0m       return self._do_call(_run_fn, self._session, feed_dict, fetch_list,\n\u001b[0;32m-> 1015\u001b[0;31m                            target_list, options, run_metadata)\n\u001b[0m\u001b[1;32m   1016\u001b[0m     \u001b[0;32melse\u001b[0m\u001b[0;34m:\u001b[0m\u001b[0;34m\u001b[0m\u001b[0m\n\u001b[1;32m   1017\u001b[0m       return self._do_call(_prun_fn, self._session, handle, feed_dict,\n",
      "\u001b[0;32m/home/rayner/miniconda2/envs/tf/lib/python2.7/site-packages/tensorflow/python/client/session.pyc\u001b[0m in \u001b[0;36m_do_call\u001b[0;34m(self, fn, *args)\u001b[0m\n\u001b[1;32m   1033\u001b[0m         \u001b[0;32mexcept\u001b[0m \u001b[0mKeyError\u001b[0m\u001b[0;34m:\u001b[0m\u001b[0;34m\u001b[0m\u001b[0m\n\u001b[1;32m   1034\u001b[0m           \u001b[0;32mpass\u001b[0m\u001b[0;34m\u001b[0m\u001b[0m\n\u001b[0;32m-> 1035\u001b[0;31m       \u001b[0;32mraise\u001b[0m \u001b[0mtype\u001b[0m\u001b[0;34m(\u001b[0m\u001b[0me\u001b[0m\u001b[0;34m)\u001b[0m\u001b[0;34m(\u001b[0m\u001b[0mnode_def\u001b[0m\u001b[0;34m,\u001b[0m \u001b[0mop\u001b[0m\u001b[0;34m,\u001b[0m \u001b[0mmessage\u001b[0m\u001b[0;34m)\u001b[0m\u001b[0;34m\u001b[0m\u001b[0m\n\u001b[0m\u001b[1;32m   1036\u001b[0m \u001b[0;34m\u001b[0m\u001b[0m\n\u001b[1;32m   1037\u001b[0m   \u001b[0;32mdef\u001b[0m \u001b[0m_extend_graph\u001b[0m\u001b[0;34m(\u001b[0m\u001b[0mself\u001b[0m\u001b[0;34m)\u001b[0m\u001b[0;34m:\u001b[0m\u001b[0;34m\u001b[0m\u001b[0m\n",
      "\u001b[0;31mResourceExhaustedError\u001b[0m: OOM when allocating tensor with shape[654,55,74,256]\n\t [[Node: ResizeNearestNeighbor_4 = ResizeNearestNeighbor[T=DT_FLOAT, align_corners=false, _device=\"/job:localhost/replica:0/task:0/gpu:0\"](up4/up4, size_6)]]\n\nCaused by op u'ResizeNearestNeighbor_4', defined at:\n  File \"/home/rayner/miniconda2/envs/tf/lib/python2.7/runpy.py\", line 174, in _run_module_as_main\n    \"__main__\", fname, loader, pkg_name)\n  File \"/home/rayner/miniconda2/envs/tf/lib/python2.7/runpy.py\", line 72, in _run_code\n    exec code in run_globals\n  File \"/home/rayner/miniconda2/envs/tf/lib/python2.7/site-packages/ipykernel_launcher.py\", line 16, in <module>\n    app.launch_new_instance()\n  File \"/home/rayner/miniconda2/envs/tf/lib/python2.7/site-packages/traitlets/config/application.py\", line 658, in launch_instance\n    app.start()\n  File \"/home/rayner/miniconda2/envs/tf/lib/python2.7/site-packages/ipykernel/kernelapp.py\", line 477, in start\n    ioloop.IOLoop.instance().start()\n  File \"/home/rayner/miniconda2/envs/tf/lib/python2.7/site-packages/zmq/eventloop/ioloop.py\", line 177, in start\n    super(ZMQIOLoop, self).start()\n  File \"/home/rayner/miniconda2/envs/tf/lib/python2.7/site-packages/tornado/ioloop.py\", line 888, in start\n    handler_func(fd_obj, events)\n  File \"/home/rayner/miniconda2/envs/tf/lib/python2.7/site-packages/tornado/stack_context.py\", line 277, in null_wrapper\n    return fn(*args, **kwargs)\n  File \"/home/rayner/miniconda2/envs/tf/lib/python2.7/site-packages/zmq/eventloop/zmqstream.py\", line 440, in _handle_events\n    self._handle_recv()\n  File \"/home/rayner/miniconda2/envs/tf/lib/python2.7/site-packages/zmq/eventloop/zmqstream.py\", line 472, in _handle_recv\n    self._run_callback(callback, msg)\n  File \"/home/rayner/miniconda2/envs/tf/lib/python2.7/site-packages/zmq/eventloop/zmqstream.py\", line 414, in _run_callback\n    callback(*args, **kwargs)\n  File \"/home/rayner/miniconda2/envs/tf/lib/python2.7/site-packages/tornado/stack_context.py\", line 277, in null_wrapper\n    return fn(*args, **kwargs)\n  File \"/home/rayner/miniconda2/envs/tf/lib/python2.7/site-packages/ipykernel/kernelbase.py\", line 283, in dispatcher\n    return self.dispatch_shell(stream, msg)\n  File \"/home/rayner/miniconda2/envs/tf/lib/python2.7/site-packages/ipykernel/kernelbase.py\", line 235, in dispatch_shell\n    handler(stream, idents, msg)\n  File \"/home/rayner/miniconda2/envs/tf/lib/python2.7/site-packages/ipykernel/kernelbase.py\", line 399, in execute_request\n    user_expressions, allow_stdin)\n  File \"/home/rayner/miniconda2/envs/tf/lib/python2.7/site-packages/ipykernel/ipkernel.py\", line 196, in do_execute\n    res = shell.run_cell(code, store_history=store_history, silent=silent)\n  File \"/home/rayner/miniconda2/envs/tf/lib/python2.7/site-packages/ipykernel/zmqshell.py\", line 533, in run_cell\n    return super(ZMQInteractiveShell, self).run_cell(*args, **kwargs)\n  File \"/home/rayner/miniconda2/envs/tf/lib/python2.7/site-packages/IPython/core/interactiveshell.py\", line 2717, in run_cell\n    interactivity=interactivity, compiler=compiler, result=result)\n  File \"/home/rayner/miniconda2/envs/tf/lib/python2.7/site-packages/IPython/core/interactiveshell.py\", line 2821, in run_ast_nodes\n    if self.run_code(code, result):\n  File \"/home/rayner/miniconda2/envs/tf/lib/python2.7/site-packages/IPython/core/interactiveshell.py\", line 2881, in run_code\n    exec(code_obj, self.user_global_ns, self.user_ns)\n  File \"<ipython-input-3-f6824446eff2>\", line 8, in <module>\n    logits = decoder_model.model(images, keep_conv, keep_hidden)\n  File \"decoder_model.py\", line 51, in model\n    net = tf.image.resize_images(net, size=[55, 74], method=tf.image.ResizeMethod.NEAREST_NEIGHBOR)\n  File \"/home/rayner/miniconda2/envs/tf/lib/python2.7/site-packages/tensorflow/python/ops/image_ops_impl.py\", line 681, in resize_images\n    align_corners=align_corners)\n  File \"/home/rayner/miniconda2/envs/tf/lib/python2.7/site-packages/tensorflow/python/ops/gen_image_ops.py\", line 852, in resize_nearest_neighbor\n    name=name)\n  File \"/home/rayner/miniconda2/envs/tf/lib/python2.7/site-packages/tensorflow/python/framework/op_def_library.py\", line 763, in apply_op\n    op_def=op_def)\n  File \"/home/rayner/miniconda2/envs/tf/lib/python2.7/site-packages/tensorflow/python/framework/ops.py\", line 2327, in create_op\n    original_op=self._default_original_op, op_def=op_def)\n  File \"/home/rayner/miniconda2/envs/tf/lib/python2.7/site-packages/tensorflow/python/framework/ops.py\", line 1226, in __init__\n    self._traceback = _extract_stack()\n\nResourceExhaustedError (see above for traceback): OOM when allocating tensor with shape[654,55,74,256]\n\t [[Node: ResizeNearestNeighbor_4 = ResizeNearestNeighbor[T=DT_FLOAT, align_corners=false, _device=\"/job:localhost/replica:0/task:0/gpu:0\"](up4/up4, size_6)]]\n"
     ]
    }
   ],
   "source": [
    "with tf.Graph().as_default():\n",
    "    global_step = tf.Variable(0, trainable=False)\n",
    "    dataset = DataSet(FLAGS.batch_size)\n",
    "    images, depths, invalid_depths = dataset.csv_inputs(FLAGS.test_file,\n",
    "                                                        target_size=[228, 304])\n",
    "    keep_conv = tf.placeholder(tf.float32)\n",
    "    keep_hidden = tf.placeholder(tf.float32)\n",
    "    logits = decoder_model.model(images, keep_conv, keep_hidden)\n",
    "    loss = decoder_model.loss(logits, depths, invalid_depths)\n",
    "#     train_op = op.train(loss, global_step, FLAGS.batch_size)\n",
    "#     init_op = tf.initialize_all_variables()\n",
    "    \n",
    "    sess = tf.Session(config=tf.ConfigProto(\n",
    "                          log_device_placement=True,\n",
    "                          gpu_options=tf.GPUOptions(visible_device_list='1')\n",
    "                      ))\n",
    "    \n",
    "#     sess.run(init_op)\n",
    "    tf.global_variables_initializer()\n",
    "    \n",
    "    # parameters\n",
    "    params = {}\n",
    "    for variable in tf.trainable_variables():\n",
    "        variable_name = variable.name\n",
    "        print(\"parameter: %s\" % (variable_name))\n",
    "        if variable_name.find(\"/\") < 0 or variable_name.count(\"/\") != 1:\n",
    "            continue\n",
    "        params[variable_name] = variable\n",
    "    # define saver\n",
    "#     print(params)\n",
    "    saver = tf.train.Saver(params)\n",
    "    # load saved model\n",
    "    ckpt = tf.train.get_checkpoint_state(FLAGS.checkpoint)\n",
    "    if ckpt and ckpt.model_checkpoint_path:\n",
    "        print(\"Loading pretrained model...\")\n",
    "        saver.restore(sess, ckpt.model_checkpoint_path)\n",
    "        print(\"Pretrained model restored.\")\n",
    "    else:\n",
    "        print(\"No pretrained model.\")\n",
    "        exit(1)\n",
    "\n",
    "    # train\n",
    "    coord = tf.train.Coordinator()\n",
    "    threads = tf.train.start_queue_runners(sess=sess, coord=coord)\n",
    "    \n",
    "    loss_value, logits_val, images_val = sess.run(\n",
    "            [loss, logits, images],\n",
    "            feed_dict={keep_conv: 0.8, keep_hidden: 0.5})\n",
    "    print(\"test loss %f\" % (loss_value))\n",
    "    \n",
    "    coord.request_stop()\n",
    "    coord.join(threads)\n",
    "#     sess.close()"
   ]
  },
  {
   "cell_type": "code",
   "execution_count": null,
   "metadata": {},
   "outputs": [],
   "source": [
    "print(ckpt)"
   ]
  },
  {
   "cell_type": "code",
   "execution_count": null,
   "metadata": {},
   "outputs": [],
   "source": [
    "print(logits_val[0,:,:,0].shape)"
   ]
  },
  {
   "cell_type": "code",
   "execution_count": null,
   "metadata": {
    "scrolled": false
   },
   "outputs": [],
   "source": [
    "for i in range(8):\n",
    "    plt.figure()\n",
    "    plt.imshow(logits_val[i,:,:,0])\n",
    "    plt.axis('off')\n",
    "    plt.show()\n",
    "\n",
    "    plt.figure()\n",
    "    plt.imshow(images_val[i,:,:,0])\n",
    "    plt.axis('off')\n",
    "    plt.show()"
   ]
  },
  {
   "cell_type": "code",
   "execution_count": null,
   "metadata": {
    "collapsed": true
   },
   "outputs": [],
   "source": []
  }
 ],
 "metadata": {
  "kernelspec": {
   "display_name": "Python 2",
   "language": "python",
   "name": "python2"
  },
  "language_info": {
   "codemirror_mode": {
    "name": "ipython",
    "version": 2
   },
   "file_extension": ".py",
   "mimetype": "text/x-python",
   "name": "python",
   "nbconvert_exporter": "python",
   "pygments_lexer": "ipython2",
   "version": "2.7.13"
  }
 },
 "nbformat": 4,
 "nbformat_minor": 2
}
