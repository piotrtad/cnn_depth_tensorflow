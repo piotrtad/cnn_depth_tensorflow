{
 "cells": [
  {
   "cell_type": "code",
   "execution_count": 1,
   "metadata": {
    "collapsed": true
   },
   "outputs": [],
   "source": [
    "import h5py\n",
    "import numpy as np\n",
    "from PIL import Image\n",
    "from matplotlib import pyplot as plt\n",
    "import tensorflow as tf\n",
    "\n",
    "import os\n",
    "import sys\n",
    "# sys.path.insert(1, os.path.join(sys.path[0], '..'))\n",
    "os.chdir('..')"
   ]
  },
  {
   "cell_type": "code",
   "execution_count": 3,
   "metadata": {},
   "outputs": [],
   "source": [
    "import decoder_model"
   ]
  },
  {
   "cell_type": "code",
   "execution_count": 203,
   "metadata": {},
   "outputs": [],
   "source": [
    "x = np.random.rand(3,5,5)*2.29\n",
    "y = np.random.rand(3,5,5)"
   ]
  },
  {
   "cell_type": "code",
   "execution_count": 99,
   "metadata": {},
   "outputs": [
    {
     "data": {
      "text/plain": [
       "dtype('float64')"
      ]
     },
     "execution_count": 99,
     "metadata": {},
     "output_type": "execute_result"
    }
   ],
   "source": [
    "y.dtype"
   ]
  },
  {
   "cell_type": "code",
   "execution_count": 221,
   "metadata": {
    "scrolled": false
   },
   "outputs": [
    {
     "name": "stdout",
     "output_type": "stream",
     "text": [
      "1.76401\n"
     ]
    }
   ],
   "source": [
    "logits = tf.placeholder(dtype=tf.float32)\n",
    "depths = tf.placeholder(dtype=tf.float32)\n",
    "d = tf.subtract(logits, depths)\n",
    "# error = tf.reduce_mean(1.0/25.0 * tf.reduce_sum(tf.abs(d)/depths))\n",
    "\n",
    "# error = tf.reduce_mean(1.0/25.0 * tf.reduce_sum(tf.abs(tf.log(logits)\n",
    "#                                                           - tf.log(depths)) /\n",
    "#                                                           tf.log(10.0)))\n",
    "\n",
    "error = tf.reduce_mean(tf.sqrt(1/25.0 * tf.reduce_sum(tf.pow(tf.abs(d), 2.0))))\n",
    "\n",
    "# error = []\n",
    "# for t in [1.25, math.pow(1.25, 2), math.pow(1.25, 3)]:\n",
    "#     foo = logits/depths\n",
    "#     bar = depths/logits\n",
    "#     delta = tf.where(foo > bar, foo, bar)\n",
    "#     good = tf.where(delta < t, delta, tf.zeros_like(delta))\n",
    "#     nz = tf.count_nonzero(good, [1,2])\n",
    "#     error += [tf.reduce_mean(tf.cast(nz, tf.float32)/25.0)]\n",
    "\n",
    "\n",
    "sess = tf.Session()\n",
    "# errors = sess.run(acc_with_threshold, feed_dict={logits: np.reshape(x[2], (1,5,5)), \n",
    "#                                                  depths: np.reshape(y[2], (1,5,5))})\n",
    "errors = sess.run(error, feed_dict={logits: x, depths: y})\n",
    "print errors"
   ]
  },
  {
   "cell_type": "code",
   "execution_count": 209,
   "metadata": {},
   "outputs": [
    {
     "name": "stdout",
     "output_type": "stream",
     "text": [
      "[0.04, 0.08, 0.32]\n",
      "[0.16, 0.24, 0.28]\n",
      "[0.04, 0.2, 0.28]\n",
      "[ 0.08        0.17333333  0.29333333]\n"
     ]
    }
   ],
   "source": [
    "acc_with_threshold = np.array([]).reshape(0,3)\n",
    "for i in range(3):\n",
    "    acc = []\n",
    "    for t in [1.25, math.pow(1.25, 2), math.pow(1.25, 3)]:\n",
    "        delta = np.where(x[i]/y[i] > y[i]/x[i], x[i]/y[i], y[i]/x[i])\n",
    "        acc += [len(np.where(delta < t)[0])/25.0]\n",
    "    print(acc)\n",
    "    acc_with_threshold = np.vstack((acc_with_threshold, np.array(acc)))\n",
    "print(np.mean(acc_with_threshold, axis=0))"
   ]
  },
  {
   "cell_type": "code",
   "execution_count": 218,
   "metadata": {},
   "outputs": [
    {
     "data": {
      "text/plain": [
       "16.607283407692652"
      ]
     },
     "execution_count": 218,
     "metadata": {},
     "output_type": "execute_result"
    }
   ],
   "source": [
    "# mean_rel_error\n",
    "np.mean(1.0/25.0 * np.sum(np.abs(x - y)/y))"
   ]
  },
  {
   "cell_type": "code",
   "execution_count": 220,
   "metadata": {},
   "outputs": [
    {
     "data": {
      "text/plain": [
       "1.6472802754513105"
      ]
     },
     "execution_count": 220,
     "metadata": {},
     "output_type": "execute_result"
    }
   ],
   "source": [
    "# mean_log10_error\n",
    "np.mean(1.0/25.0 * np.sum(np.abs(np.log10(x) - np.log10(y))))"
   ]
  },
  {
   "cell_type": "code",
   "execution_count": 222,
   "metadata": {},
   "outputs": [
    {
     "data": {
      "text/plain": [
       "1.7640054465255179"
      ]
     },
     "execution_count": 222,
     "metadata": {},
     "output_type": "execute_result"
    }
   ],
   "source": [
    "# rmse\n",
    "np.mean(np.sqrt(1/25.0 * np.sum(np.power(np.abs(x-y), 2))))"
   ]
  },
  {
   "cell_type": "code",
   "execution_count": 170,
   "metadata": {},
   "outputs": [
    {
     "name": "stdout",
     "output_type": "stream",
     "text": [
      "[0.28, 0.64, 0.92]\n"
     ]
    }
   ],
   "source": [
    "acc_with_threshold = []\n",
    "for t in [1.25, math.pow(1.25, 2), math.pow(1.25, 3)]:\n",
    "    delta = np.where(x/y > y/x, x/y, y/x)\n",
    "    acc_with_threshold += [len(np.where(delta < t)[0])/25.0]\n",
    "print(acc_with_threshold)"
   ]
  },
  {
   "cell_type": "code",
   "execution_count": null,
   "metadata": {
    "collapsed": true
   },
   "outputs": [],
   "source": []
  }
 ],
 "metadata": {
  "kernelspec": {
   "display_name": "Python 2",
   "language": "python",
   "name": "python2"
  },
  "language_info": {
   "codemirror_mode": {
    "name": "ipython",
    "version": 2
   },
   "file_extension": ".py",
   "mimetype": "text/x-python",
   "name": "python",
   "nbconvert_exporter": "python",
   "pygments_lexer": "ipython2",
   "version": "2.7.13"
  }
 },
 "nbformat": 4,
 "nbformat_minor": 2
}
