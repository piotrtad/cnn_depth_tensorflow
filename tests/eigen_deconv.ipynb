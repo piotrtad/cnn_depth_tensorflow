{
 "cells": [
  {
   "cell_type": "code",
   "execution_count": 1,
   "metadata": {
    "collapsed": true
   },
   "outputs": [],
   "source": [
    "from __future__ import absolute_import\n",
    "from __future__ import division\n",
    "from __future__ import print_function\n",
    "\n",
    "from datetime import datetime\n",
    "import matplotlib\n",
    "%matplotlib inline\n",
    "import matplotlib.pyplot as plt\n",
    "import numpy as np\n",
    "import tensorflow as tf\n",
    "\n",
    "import os\n",
    "import sys\n",
    "# sys.path.insert(1, os.path.join(sys.path[0], '..'))\n",
    "os.chdir('..')\n",
    "\n",
    "from dataset import DataSet\n",
    "from model_part import conv2d\n",
    "from model_part import fc"
   ]
  },
  {
   "cell_type": "code",
   "execution_count": 2,
   "metadata": {
    "collapsed": true
   },
   "outputs": [],
   "source": [
    "flags = tf.app.flags\n",
    "FLAGS = flags.FLAGS\n",
    "today = datetime.strftime(datetime.now(), '%d%m%y')\n",
    "flags.DEFINE_integer('batch_size', 8, 'Batch size')\n",
    "flags.DEFINE_string('train_file', 'train.csv', 'Train file')"
   ]
  },
  {
   "cell_type": "code",
   "execution_count": 40,
   "metadata": {
    "collapsed": true
   },
   "outputs": [],
   "source": [
    "def decoder_model(inputs, reuse=False, trainable=True, debug=False, keep_drop=0.5):\n",
    "    # inputs.get_shape() = TensorShape([Dimension(8), Dimension(55), Dimension(74), Dimension(1)])\n",
    "    if debug:\n",
    "        print('%s \\t\\t\\t\\t%s' % ('inputs', inputs.get_shape()))\n",
    "        \n",
    "    net1 = conv2d('coarse1', inputs, [11, 11, 3, 96], [96], [1, 4, 4, 1],\n",
    "                 padding='VALID', reuse=reuse, trainable=trainable)\n",
    "    if debug:\n",
    "        print('%s \\t\\t%s' % (net1.name, net1.get_shape()))\n",
    "    net = tf.nn.max_pool(net1, ksize=[1, 3, 3, 1], strides=[1, 2, 2, 1],\n",
    "                         padding='VALID', name='pool1')\n",
    "    if debug:\n",
    "        print('%s \\t\\t\\t%s' % (net.name, net.get_shape()))\n",
    "        \n",
    "    net2 = conv2d('coarse2', net, [5, 5, 96, 256], [256], [1, 1, 1, 1],\n",
    "                 padding='VALID', reuse=reuse, trainable=trainable)\n",
    "    if debug:\n",
    "        print('%s \\t\\t%s' % (net2.name, net2.get_shape()))\n",
    "    net = tf.nn.max_pool(net2, ksize=[1, 3, 3, 1], strides=[1, 2, 2, 1],\n",
    "                         padding='SAME', name='pool2')\n",
    "    if debug:\n",
    "        print('%s \\t\\t\\t%s' % (net.name, net.get_shape()))\n",
    "    net = conv2d('coarse3', net, [3, 3, 256, 384], [384], [1, 1, 1, 1],\n",
    "                 padding='VALID', reuse=reuse, trainable=trainable)\n",
    "    if debug:\n",
    "        print('%s \\t\\t%s' % (net.name, net.get_shape()))\n",
    "    net4 = conv2d('coarse4', net, [3, 3, 384, 384], [384], [1, 1, 1, 1],\n",
    "                 padding='VALID', reuse=reuse, trainable=trainable)\n",
    "    if debug:\n",
    "        print('%s \\t\\t%s' % (net4.name, net4.get_shape()))\n",
    "    net = conv2d('coarse5', net4, [3, 3, 384, 256], [256], [1, 1, 1, 1],\n",
    "                 padding='VALID', reuse=reuse, trainable=trainable)\n",
    "    if debug:\n",
    "        print('%s \\t\\t%s' % (net.name, net.get_shape()))\n",
    "    net = fc('coarse6', net, [6*10*256, 4096], [4096], reuse=reuse,\n",
    "             trainable=trainable)\n",
    "    \n",
    "    if debug:\n",
    "        print('%s \\t\\t%s' % (net.name, net.get_shape()))\n",
    "    net = tf.nn.dropout(net, keep_drop)\n",
    "\n",
    "    if debug:\n",
    "        print('%s \\t\\t\\t%s' % (net.name, net.get_shape()))\n",
    "    net = fc('coarse7', net, [4096, 6*10*256], [6*10*256], reuse=reuse,\n",
    "             trainable=trainable)\n",
    "    if debug:\n",
    "            print('%s \\t\\t%s' % (net.name, net.get_shape()))\n",
    "    net = tf.nn.dropout(net, keep_drop)\n",
    "\n",
    "    if debug:\n",
    "        print('%s \\t\\t%s' % (net.name, net.get_shape()))\n",
    "    net = tf.reshape(net, [-1, 6, 10, 256])\n",
    "\n",
    "    if debug:\n",
    "        print('%s \\t\\t\\t%s' % (net.name, net.get_shape()))\n",
    "    net = tf.image.resize_images(net, size=[8, 12],\n",
    "                                 method=tf.image.ResizeMethod.NEAREST_NEIGHBOR)\n",
    "    if debug:\n",
    "        print('%s \\t%s' % (net.name, net.get_shape()))\n",
    "    net = conv2d('up1', net, [3, 3, 256, 384], [384], [1, 1, 1, 1],\n",
    "                 padding='SAME', reuse=reuse, trainable=trainable)\n",
    "    if debug:\n",
    "        print('%s \\t\\t\\t%s' % (net.name, net.get_shape()))\n",
    "    \n",
    "    # residual\n",
    "    net = net + net4\n",
    "    if debug:\n",
    "        print('%s \\t\\t\\t\\t%s' % (net.name, net.get_shape()))\n",
    "    net = tf.image.resize_images(net, size=[23, 32],\n",
    "                                 method=tf.image.ResizeMethod.NEAREST_NEIGHBOR)\n",
    "    if debug:\n",
    "        print('%s \\t%s' % (net.name, net.get_shape()))\n",
    "    net = conv2d('up2', net, [3, 3, 384, 256], [256], [1, 1, 1, 1],\n",
    "                 padding='SAME', reuse=reuse, trainable=trainable)\n",
    "    if debug:\n",
    "        print('%s \\t\\t\\t%s' % (net.name, net.get_shape()))\n",
    "    \n",
    "    # residual\n",
    "    net = net + net2\n",
    "    \n",
    "    if debug:\n",
    "        print('%s \\t\\t\\t%s' % (net.name, net.get_shape()))\n",
    "    net = tf.image.resize_images(net, size=[55, 74],\n",
    "                                 method=tf.image.ResizeMethod.NEAREST_NEIGHBOR)\n",
    "    if debug:\n",
    "        print('%s \\t%s' % (net.name, net.get_shape()))\n",
    "    net = conv2d('up3', net, [3, 3, 256, 96], [96], [1, 1, 1, 1],\n",
    "                 padding='SAME', reuse=reuse, trainable=trainable)\n",
    "    if debug:\n",
    "        print('%s \\t\\t\\t%s' % (net.name, net.get_shape()))\n",
    "    \n",
    "    # residual\n",
    "    net = net + net1\n",
    "    \n",
    "    if debug:\n",
    "        print('%s \\t\\t\\t%s' % (net.name, net.get_shape()))\n",
    "    net = tf.image.resize_images(net, size=[228, 304],\n",
    "                                 method=tf.image.ResizeMethod.NEAREST_NEIGHBOR)\n",
    "    if debug:\n",
    "        print('%s \\t%s' % (net.name, net.get_shape()))\n",
    "    net = conv2d('up4', net, [3, 3, 96, 1], [1], [1, 1, 1, 1],\n",
    "                 padding='SAME', reuse=reuse, trainable=trainable)\n",
    "    \n",
    "    if debug:\n",
    "        print('%s \\t\\t\\t%s' % (net.name, net.get_shape()))\n",
    "\n",
    "    return net"
   ]
  },
  {
   "cell_type": "code",
   "execution_count": 41,
   "metadata": {
    "scrolled": false
   },
   "outputs": [
    {
     "name": "stdout",
     "output_type": "stream",
     "text": [
      "inputs \t\t\t\t(8, 228, 304, 3)\n",
      "coarse1/coarse1:0 \t\t(8, 55, 74, 96)\n",
      "pool1:0 \t\t\t(8, 27, 36, 96)\n",
      "coarse2/coarse2:0 \t\t(8, 23, 32, 256)\n",
      "pool2:0 \t\t\t(8, 12, 16, 256)\n",
      "coarse3/coarse3:0 \t\t(8, 10, 14, 384)\n",
      "coarse4/coarse4:0 \t\t(8, 8, 12, 384)\n",
      "coarse5/coarse5:0 \t\t(8, 6, 10, 256)\n",
      "coarse6/coarse6:0 \t\t(8, 4096)\n",
      "dropout/mul:0 \t\t\t(8, 4096)\n",
      "coarse7/coarse7:0 \t\t(8, 15360)\n",
      "dropout_1/mul:0 \t\t(8, 15360)\n",
      "Reshape_1:0 \t\t\t(8, 6, 10, 256)\n",
      "ResizeNearestNeighbor:0 \t(8, 8, 12, 256)\n",
      "up1/up1:0 \t\t\t(8, 8, 12, 384)\n",
      "add:0 \t\t\t\t(8, 8, 12, 384)\n",
      "ResizeNearestNeighbor_1:0 \t(8, 23, 32, 384)\n",
      "up2/up2:0 \t\t\t(8, 23, 32, 256)\n",
      "add_1:0 \t\t\t(8, 23, 32, 256)\n",
      "ResizeNearestNeighbor_2:0 \t(8, 55, 74, 256)\n",
      "up3/up3:0 \t\t\t(8, 55, 74, 96)\n",
      "add_2:0 \t\t\t(8, 55, 74, 96)\n",
      "ResizeNearestNeighbor_3:0 \t(8, 228, 304, 96)\n",
      "up4/up4:0 \t\t\t(8, 228, 304, 1)\n"
     ]
    }
   ],
   "source": [
    "with tf.Graph().as_default():\n",
    "    dataset = DataSet(FLAGS.batch_size)\n",
    "    images, depths, _ = dataset.csv_inputs(FLAGS.train_file,\n",
    "                                               target_size=[228, 304])\n",
    "    keep_hidden = tf.placeholder(tf.float32)\n",
    "    encoder_model = decoder_model(images, keep_hidden, trainable=False, debug=True)"
   ]
  },
  {
   "cell_type": "code",
   "execution_count": 21,
   "metadata": {
    "scrolled": true
   },
   "outputs": [
    {
     "name": "stdout",
     "output_type": "stream",
     "text": [
      "inputs \t\t\t\t(8, 228, 304, 3)\n",
      "coarse1/coarse1:0 \t\t(8, 55, 74, 96)\n",
      "pool1:0 \t\t\t(8, 27, 36, 96)\n",
      "coarse2/coarse2:0 \t\t(8, 23, 32, 256)\n",
      "pool2:0 \t\t\t(8, 12, 16, 256)\n",
      "coarse3/coarse3:0 \t\t(8, 10, 14, 384)\n",
      "coarse4/coarse4:0 \t\t(8, 8, 12, 384)\n",
      "coarse5/coarse5:0 \t\t(8, 6, 10, 256)\n",
      "coarse6/coarse6:0 \t\t(8, 4096)\n",
      "dropout/mul:0 \t\t\t(8, 4096)\n",
      "coarse7/coarse7:0 \t\t(8, 15360)\n",
      "dropout_1/mul:0 \t\t(8, 15360)\n",
      "Reshape_1:0 \t\t\t(8, 6, 10, 256)\n",
      "ResizeNearestNeighbor:0 \t(8, 8, 12, 256)\n",
      "up1/up1:0 \t\t\t(8, 8, 12, 384)\n"
     ]
    }
   ],
   "source": [
    "with tf.Graph().as_default():\n",
    "    dataset = DataSet(FLAGS.batch_size)\n",
    "    images, depths, _ = dataset.csv_inputs(FLAGS.train_file,\n",
    "                                               target_size=[228, 304])\n",
    "    keep_hidden = tf.placeholder(tf.float32)\n",
    "    encoder_model = decoder_model(images, keep_hidden, trainable=False, debug=True)"
   ]
  },
  {
   "cell_type": "code",
   "execution_count": null,
   "metadata": {
    "collapsed": true
   },
   "outputs": [],
   "source": []
  },
  {
   "cell_type": "code",
   "execution_count": null,
   "metadata": {
    "collapsed": true
   },
   "outputs": [],
   "source": []
  }
 ],
 "metadata": {
  "kernelspec": {
   "display_name": "Python 2",
   "language": "python",
   "name": "python2"
  },
  "language_info": {
   "codemirror_mode": {
    "name": "ipython",
    "version": 2
   },
   "file_extension": ".py",
   "mimetype": "text/x-python",
   "name": "python",
   "nbconvert_exporter": "python",
   "pygments_lexer": "ipython2",
   "version": "2.7.13"
  }
 },
 "nbformat": 4,
 "nbformat_minor": 2
}
